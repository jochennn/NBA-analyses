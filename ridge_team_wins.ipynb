{
 "cells": [
  {
   "cell_type": "markdown",
   "id": "4669242b-6870-46a4-8875-c026fe9aa1d9",
   "metadata": {},
   "source": [
    "# Ridge Regression Analysis - WIN PREDICTION"
   ]
  },
  {
   "cell_type": "markdown",
   "id": "277411c1-3ca9-429d-9186-aecf40ab730e",
   "metadata": {},
   "source": [
    "## IMPORTING DATA & LIBRARIES"
   ]
  },
  {
   "cell_type": "code",
   "execution_count": 1,
   "id": "dfbb215d-da81-4a51-9fa8-55c4bea48cdf",
   "metadata": {},
   "outputs": [],
   "source": [
    "# nba data\n",
    "from nba_api.stats.endpoints import teamestimatedmetrics\n",
    "\n",
    "# data manipulation/visualization packages\n",
    "import pandas as pd\n",
    "import altair as alt\n",
    "import matplotlib.pyplot as plt\n",
    "import seaborn as sn\n",
    "import numpy as np\n",
    "import json\n",
    "\n",
    "# scikit\n",
    "from sklearn.linear_model import Ridge, RidgeCV\n",
    "from sklearn.model_selection import train_test_split\n",
    "from sklearn.dummy import DummyClassifier,DummyRegressor\n",
    "from sklearn.feature_extraction.text import CountVectorizer, TfidfVectorizer\n",
    "from sklearn.impute import SimpleImputer\n",
    "from sklearn.model_selection import cross_val_score, cross_validate, train_test_split\n",
    "from sklearn.neighbors import KNeighborsClassifier, KNeighborsRegressor\n",
    "from sklearn.pipeline import Pipeline, make_pipeline\n",
    "from sklearn.preprocessing import OneHotEncoder, StandardScaler\n",
    "from sklearn.svm import SVC\n",
    "from sklearn.tree import DecisionTreeClassifier\n",
    "from sklearn.compose import ColumnTransformer, make_column_transformer\n"
   ]
  },
  {
   "cell_type": "code",
   "execution_count": 2,
   "id": "d4e56325-f4dd-4fa9-82b8-b63dd04d00cf",
   "metadata": {},
   "outputs": [],
   "source": [
    "# initialize empty df\n",
    "team_data = pd.DataFrame()\n",
    "\n",
    "# get data for all teams years 1980-2023\n",
    "for year in range(1980, 2024):\n",
    "    season = f\"{year}-{str(year + 1)[-2:]}\"  \n",
    "    team_stats = teamestimatedmetrics.TeamEstimatedMetrics(season=[season]).get_data_frames()[0][:40]\n",
    "    team_data = pd.concat([team_data, team_stats])"
   ]
  },
  {
   "cell_type": "code",
   "execution_count": 3,
   "id": "7a51fe47-3497-4f4a-8eff-0029ca8e950f",
   "metadata": {},
   "outputs": [
    {
     "data": {
      "text/html": [
       "<div>\n",
       "<style scoped>\n",
       "    .dataframe tbody tr th:only-of-type {\n",
       "        vertical-align: middle;\n",
       "    }\n",
       "\n",
       "    .dataframe tbody tr th {\n",
       "        vertical-align: top;\n",
       "    }\n",
       "\n",
       "    .dataframe thead th {\n",
       "        text-align: right;\n",
       "    }\n",
       "</style>\n",
       "<table border=\"1\" class=\"dataframe\">\n",
       "  <thead>\n",
       "    <tr style=\"text-align: right;\">\n",
       "      <th></th>\n",
       "      <th>TEAM_NAME</th>\n",
       "      <th>TEAM_ID</th>\n",
       "      <th>GP</th>\n",
       "      <th>W</th>\n",
       "      <th>L</th>\n",
       "      <th>W_PCT</th>\n",
       "      <th>MIN</th>\n",
       "      <th>E_OFF_RATING</th>\n",
       "      <th>E_DEF_RATING</th>\n",
       "      <th>E_NET_RATING</th>\n",
       "      <th>...</th>\n",
       "      <th>MIN_RANK</th>\n",
       "      <th>E_OFF_RATING_RANK</th>\n",
       "      <th>E_DEF_RATING_RANK</th>\n",
       "      <th>E_NET_RATING_RANK</th>\n",
       "      <th>E_AST_RATIO_RANK</th>\n",
       "      <th>E_OREB_PCT_RANK</th>\n",
       "      <th>E_DREB_PCT_RANK</th>\n",
       "      <th>E_REB_PCT_RANK</th>\n",
       "      <th>E_TM_TOV_PCT_RANK</th>\n",
       "      <th>E_PACE_RANK</th>\n",
       "    </tr>\n",
       "  </thead>\n",
       "  <tbody>\n",
       "    <tr>\n",
       "      <th>0</th>\n",
       "      <td>Boston Celtics</td>\n",
       "      <td>1610612738</td>\n",
       "      <td>82</td>\n",
       "      <td>15</td>\n",
       "      <td>67</td>\n",
       "      <td>0.183</td>\n",
       "      <td>3981.0</td>\n",
       "      <td>100.8</td>\n",
       "      <td>108.8</td>\n",
       "      <td>-8.0</td>\n",
       "      <td>...</td>\n",
       "      <td>5</td>\n",
       "      <td>26</td>\n",
       "      <td>27</td>\n",
       "      <td>27</td>\n",
       "      <td>20</td>\n",
       "      <td>21</td>\n",
       "      <td>18</td>\n",
       "      <td>28</td>\n",
       "      <td>8</td>\n",
       "      <td>1</td>\n",
       "    </tr>\n",
       "    <tr>\n",
       "      <th>1</th>\n",
       "      <td>Philadelphia 76ers</td>\n",
       "      <td>1610612755</td>\n",
       "      <td>82</td>\n",
       "      <td>22</td>\n",
       "      <td>60</td>\n",
       "      <td>0.268</td>\n",
       "      <td>3956.0</td>\n",
       "      <td>101.4</td>\n",
       "      <td>108.4</td>\n",
       "      <td>-6.9</td>\n",
       "      <td>...</td>\n",
       "      <td>25</td>\n",
       "      <td>22</td>\n",
       "      <td>25</td>\n",
       "      <td>24</td>\n",
       "      <td>29</td>\n",
       "      <td>3</td>\n",
       "      <td>28</td>\n",
       "      <td>17</td>\n",
       "      <td>27</td>\n",
       "      <td>2</td>\n",
       "    </tr>\n",
       "    <tr>\n",
       "      <th>2</th>\n",
       "      <td>Phoenix Suns</td>\n",
       "      <td>1610612756</td>\n",
       "      <td>82</td>\n",
       "      <td>40</td>\n",
       "      <td>42</td>\n",
       "      <td>0.488</td>\n",
       "      <td>3971.0</td>\n",
       "      <td>106.7</td>\n",
       "      <td>105.5</td>\n",
       "      <td>1.2</td>\n",
       "      <td>...</td>\n",
       "      <td>7</td>\n",
       "      <td>6</td>\n",
       "      <td>18</td>\n",
       "      <td>14</td>\n",
       "      <td>4</td>\n",
       "      <td>29</td>\n",
       "      <td>11</td>\n",
       "      <td>26</td>\n",
       "      <td>3</td>\n",
       "      <td>3</td>\n",
       "    </tr>\n",
       "    <tr>\n",
       "      <th>3</th>\n",
       "      <td>New Jersey Nets</td>\n",
       "      <td>1610612751</td>\n",
       "      <td>82</td>\n",
       "      <td>26</td>\n",
       "      <td>56</td>\n",
       "      <td>0.317</td>\n",
       "      <td>3956.0</td>\n",
       "      <td>101.4</td>\n",
       "      <td>106.5</td>\n",
       "      <td>-5.1</td>\n",
       "      <td>...</td>\n",
       "      <td>22</td>\n",
       "      <td>23</td>\n",
       "      <td>23</td>\n",
       "      <td>23</td>\n",
       "      <td>27</td>\n",
       "      <td>1</td>\n",
       "      <td>16</td>\n",
       "      <td>5</td>\n",
       "      <td>9</td>\n",
       "      <td>4</td>\n",
       "    </tr>\n",
       "    <tr>\n",
       "      <th>4</th>\n",
       "      <td>Denver Nuggets</td>\n",
       "      <td>1610612743</td>\n",
       "      <td>82</td>\n",
       "      <td>21</td>\n",
       "      <td>61</td>\n",
       "      <td>0.256</td>\n",
       "      <td>3986.0</td>\n",
       "      <td>101.2</td>\n",
       "      <td>108.2</td>\n",
       "      <td>-7.0</td>\n",
       "      <td>...</td>\n",
       "      <td>1</td>\n",
       "      <td>25</td>\n",
       "      <td>24</td>\n",
       "      <td>25</td>\n",
       "      <td>11</td>\n",
       "      <td>25</td>\n",
       "      <td>13</td>\n",
       "      <td>20</td>\n",
       "      <td>18</td>\n",
       "      <td>5</td>\n",
       "    </tr>\n",
       "    <tr>\n",
       "      <th>...</th>\n",
       "      <td>...</td>\n",
       "      <td>...</td>\n",
       "      <td>...</td>\n",
       "      <td>...</td>\n",
       "      <td>...</td>\n",
       "      <td>...</td>\n",
       "      <td>...</td>\n",
       "      <td>...</td>\n",
       "      <td>...</td>\n",
       "      <td>...</td>\n",
       "      <td>...</td>\n",
       "      <td>...</td>\n",
       "      <td>...</td>\n",
       "      <td>...</td>\n",
       "      <td>...</td>\n",
       "      <td>...</td>\n",
       "      <td>...</td>\n",
       "      <td>...</td>\n",
       "      <td>...</td>\n",
       "      <td>...</td>\n",
       "      <td>...</td>\n",
       "    </tr>\n",
       "    <tr>\n",
       "      <th>25</th>\n",
       "      <td>Toronto Raptors</td>\n",
       "      <td>1610612761</td>\n",
       "      <td>82</td>\n",
       "      <td>41</td>\n",
       "      <td>41</td>\n",
       "      <td>0.500</td>\n",
       "      <td>3961.0</td>\n",
       "      <td>112.2</td>\n",
       "      <td>111.4</td>\n",
       "      <td>0.8</td>\n",
       "      <td>...</td>\n",
       "      <td>18</td>\n",
       "      <td>16</td>\n",
       "      <td>14</td>\n",
       "      <td>14</td>\n",
       "      <td>25</td>\n",
       "      <td>3</td>\n",
       "      <td>10</td>\n",
       "      <td>13</td>\n",
       "      <td>1</td>\n",
       "      <td>26</td>\n",
       "    </tr>\n",
       "    <tr>\n",
       "      <th>26</th>\n",
       "      <td>Philadelphia 76ers</td>\n",
       "      <td>1610612755</td>\n",
       "      <td>82</td>\n",
       "      <td>54</td>\n",
       "      <td>28</td>\n",
       "      <td>0.659</td>\n",
       "      <td>3976.0</td>\n",
       "      <td>115.5</td>\n",
       "      <td>110.2</td>\n",
       "      <td>5.2</td>\n",
       "      <td>...</td>\n",
       "      <td>5</td>\n",
       "      <td>3</td>\n",
       "      <td>8</td>\n",
       "      <td>3</td>\n",
       "      <td>9</td>\n",
       "      <td>26</td>\n",
       "      <td>8</td>\n",
       "      <td>19</td>\n",
       "      <td>16</td>\n",
       "      <td>27</td>\n",
       "    </tr>\n",
       "    <tr>\n",
       "      <th>27</th>\n",
       "      <td>Dallas Mavericks</td>\n",
       "      <td>1610612742</td>\n",
       "      <td>82</td>\n",
       "      <td>38</td>\n",
       "      <td>44</td>\n",
       "      <td>0.463</td>\n",
       "      <td>3986.0</td>\n",
       "      <td>114.3</td>\n",
       "      <td>114.0</td>\n",
       "      <td>0.3</td>\n",
       "      <td>...</td>\n",
       "      <td>3</td>\n",
       "      <td>6</td>\n",
       "      <td>24</td>\n",
       "      <td>16</td>\n",
       "      <td>24</td>\n",
       "      <td>30</td>\n",
       "      <td>21</td>\n",
       "      <td>30</td>\n",
       "      <td>2</td>\n",
       "      <td>28</td>\n",
       "    </tr>\n",
       "    <tr>\n",
       "      <th>28</th>\n",
       "      <td>Miami Heat</td>\n",
       "      <td>1610612748</td>\n",
       "      <td>82</td>\n",
       "      <td>44</td>\n",
       "      <td>38</td>\n",
       "      <td>0.537</td>\n",
       "      <td>3961.0</td>\n",
       "      <td>110.4</td>\n",
       "      <td>110.6</td>\n",
       "      <td>-0.2</td>\n",
       "      <td>...</td>\n",
       "      <td>18</td>\n",
       "      <td>25</td>\n",
       "      <td>9</td>\n",
       "      <td>21</td>\n",
       "      <td>21</td>\n",
       "      <td>21</td>\n",
       "      <td>5</td>\n",
       "      <td>22</td>\n",
       "      <td>13</td>\n",
       "      <td>29</td>\n",
       "    </tr>\n",
       "    <tr>\n",
       "      <th>29</th>\n",
       "      <td>Cleveland Cavaliers</td>\n",
       "      <td>1610612739</td>\n",
       "      <td>82</td>\n",
       "      <td>51</td>\n",
       "      <td>31</td>\n",
       "      <td>0.622</td>\n",
       "      <td>3976.0</td>\n",
       "      <td>113.7</td>\n",
       "      <td>107.7</td>\n",
       "      <td>6.0</td>\n",
       "      <td>...</td>\n",
       "      <td>5</td>\n",
       "      <td>8</td>\n",
       "      <td>1</td>\n",
       "      <td>2</td>\n",
       "      <td>11</td>\n",
       "      <td>17</td>\n",
       "      <td>14</td>\n",
       "      <td>18</td>\n",
       "      <td>12</td>\n",
       "      <td>30</td>\n",
       "    </tr>\n",
       "  </tbody>\n",
       "</table>\n",
       "<p>802 rows × 30 columns</p>\n",
       "</div>"
      ],
      "text/plain": [
       "              TEAM_NAME     TEAM_ID  GP   W   L  W_PCT     MIN  E_OFF_RATING  \\\n",
       "0        Boston Celtics  1610612738  82  15  67  0.183  3981.0         100.8   \n",
       "1    Philadelphia 76ers  1610612755  82  22  60  0.268  3956.0         101.4   \n",
       "2          Phoenix Suns  1610612756  82  40  42  0.488  3971.0         106.7   \n",
       "3       New Jersey Nets  1610612751  82  26  56  0.317  3956.0         101.4   \n",
       "4        Denver Nuggets  1610612743  82  21  61  0.256  3986.0         101.2   \n",
       "..                  ...         ...  ..  ..  ..    ...     ...           ...   \n",
       "25      Toronto Raptors  1610612761  82  41  41  0.500  3961.0         112.2   \n",
       "26   Philadelphia 76ers  1610612755  82  54  28  0.659  3976.0         115.5   \n",
       "27     Dallas Mavericks  1610612742  82  38  44  0.463  3986.0         114.3   \n",
       "28           Miami Heat  1610612748  82  44  38  0.537  3961.0         110.4   \n",
       "29  Cleveland Cavaliers  1610612739  82  51  31  0.622  3976.0         113.7   \n",
       "\n",
       "    E_DEF_RATING  E_NET_RATING  ...  MIN_RANK  E_OFF_RATING_RANK  \\\n",
       "0          108.8          -8.0  ...         5                 26   \n",
       "1          108.4          -6.9  ...        25                 22   \n",
       "2          105.5           1.2  ...         7                  6   \n",
       "3          106.5          -5.1  ...        22                 23   \n",
       "4          108.2          -7.0  ...         1                 25   \n",
       "..           ...           ...  ...       ...                ...   \n",
       "25         111.4           0.8  ...        18                 16   \n",
       "26         110.2           5.2  ...         5                  3   \n",
       "27         114.0           0.3  ...         3                  6   \n",
       "28         110.6          -0.2  ...        18                 25   \n",
       "29         107.7           6.0  ...         5                  8   \n",
       "\n",
       "    E_DEF_RATING_RANK  E_NET_RATING_RANK  E_AST_RATIO_RANK  E_OREB_PCT_RANK  \\\n",
       "0                  27                 27                20               21   \n",
       "1                  25                 24                29                3   \n",
       "2                  18                 14                 4               29   \n",
       "3                  23                 23                27                1   \n",
       "4                  24                 25                11               25   \n",
       "..                ...                ...               ...              ...   \n",
       "25                 14                 14                25                3   \n",
       "26                  8                  3                 9               26   \n",
       "27                 24                 16                24               30   \n",
       "28                  9                 21                21               21   \n",
       "29                  1                  2                11               17   \n",
       "\n",
       "   E_DREB_PCT_RANK E_REB_PCT_RANK E_TM_TOV_PCT_RANK E_PACE_RANK  \n",
       "0               18             28                 8           1  \n",
       "1               28             17                27           2  \n",
       "2               11             26                 3           3  \n",
       "3               16              5                 9           4  \n",
       "4               13             20                18           5  \n",
       "..             ...            ...               ...         ...  \n",
       "25              10             13                 1          26  \n",
       "26               8             19                16          27  \n",
       "27              21             30                 2          28  \n",
       "28               5             22                13          29  \n",
       "29              14             18                12          30  \n",
       "\n",
       "[802 rows x 30 columns]"
      ]
     },
     "execution_count": 3,
     "metadata": {},
     "output_type": "execute_result"
    }
   ],
   "source": [
    "team_data"
   ]
  },
  {
   "cell_type": "markdown",
   "id": "4157ebb0-1034-4392-b786-8f8d60f580d7",
   "metadata": {},
   "source": [
    "## EDA"
   ]
  },
  {
   "cell_type": "code",
   "execution_count": 4,
   "id": "3517ecb2-3f6e-4996-b30f-e73f4e9a2b02",
   "metadata": {},
   "outputs": [
    {
     "data": {
      "text/plain": [
       "Boston Celtics                       27\n",
       "New York Knicks                      27\n",
       "Cleveland Cavaliers                  27\n",
       "Detroit Pistons                      27\n",
       "Atlanta Hawks                        27\n",
       "San Antonio Spurs                    27\n",
       "Miami Heat                           27\n",
       "Orlando Magic                        27\n",
       "Indiana Pacers                       27\n",
       "Philadelphia 76ers                   27\n",
       "Milwaukee Bucks                      27\n",
       "Utah Jazz                            27\n",
       "Chicago Bulls                        27\n",
       "Dallas Mavericks                     27\n",
       "Toronto Raptors                      27\n",
       "Los Angeles Lakers                   27\n",
       "Phoenix Suns                         27\n",
       "Golden State Warriors                27\n",
       "Houston Rockets                      27\n",
       "Denver Nuggets                       27\n",
       "Sacramento Kings                     27\n",
       "Portland Trail Blazers               27\n",
       "Minnesota Timberwolves               27\n",
       "Washington Wizards                   26\n",
       "Memphis Grizzlies                    22\n",
       "Los Angeles Clippers                 19\n",
       "New Jersey Nets                      16\n",
       "Charlotte Hornets                    15\n",
       "Oklahoma City Thunder                15\n",
       "Seattle SuperSonics                  12\n",
       "Brooklyn Nets                        11\n",
       "Charlotte Bobcats                    10\n",
       "New Orleans Pelicans                 10\n",
       "New Orleans Hornets                   9\n",
       "LA Clippers                           8\n",
       "Vancouver Grizzlies                   5\n",
       "New Orleans/Oklahoma City Hornets     2\n",
       "Washington Bullets                    1\n",
       "Name: TEAM_NAME, dtype: int64"
      ]
     },
     "execution_count": 4,
     "metadata": {},
     "output_type": "execute_result"
    }
   ],
   "source": [
    "team_data['TEAM_NAME'].value_counts()"
   ]
  },
  {
   "cell_type": "markdown",
   "id": "823cae92-d3bd-4b1b-8aa9-6f76c667bc38",
   "metadata": {},
   "source": [
    "The difference in value counts in team names stems from name changes that have occurred. Eg: Vancouver Grizzlies & Memphis Grizzlies are the same franchise, just having undergone a name change."
   ]
  },
  {
   "cell_type": "code",
   "execution_count": 5,
   "id": "ccb3d27b-c239-4c4e-b073-e63e5982c0ed",
   "metadata": {},
   "outputs": [
    {
     "data": {
      "text/plain": [
       "Index(['TEAM_NAME', 'TEAM_ID', 'GP', 'W', 'L', 'W_PCT', 'MIN', 'E_OFF_RATING',\n",
       "       'E_DEF_RATING', 'E_NET_RATING', 'E_PACE', 'E_AST_RATIO', 'E_OREB_PCT',\n",
       "       'E_DREB_PCT', 'E_REB_PCT', 'E_TM_TOV_PCT', 'GP_RANK', 'W_RANK',\n",
       "       'L_RANK', 'W_PCT_RANK', 'MIN_RANK', 'E_OFF_RATING_RANK',\n",
       "       'E_DEF_RATING_RANK', 'E_NET_RATING_RANK', 'E_AST_RATIO_RANK',\n",
       "       'E_OREB_PCT_RANK', 'E_DREB_PCT_RANK', 'E_REB_PCT_RANK',\n",
       "       'E_TM_TOV_PCT_RANK', 'E_PACE_RANK'],\n",
       "      dtype='object')"
      ]
     },
     "execution_count": 5,
     "metadata": {},
     "output_type": "execute_result"
    }
   ],
   "source": [
    "# get rid of columns that don't contribute to predicting number of wins/are redundant\n",
    "team_data.columns"
   ]
  },
  {
   "cell_type": "code",
   "execution_count": 6,
   "id": "d4c9a5c6-322c-4b66-b258-a1b6e8caecb4",
   "metadata": {},
   "outputs": [
    {
     "data": {
      "text/plain": [
       "Index(['w', 'e_off_rating', 'e_def_rating', 'e_net_rating', 'e_pace',\n",
       "       'e_ast_ratio', 'e_oreb_pct', 'e_dreb_pct', 'e_reb_pct', 'e_tm_tov_pct'],\n",
       "      dtype='object')"
      ]
     },
     "execution_count": 6,
     "metadata": {},
     "output_type": "execute_result"
    }
   ],
   "source": [
    "team_data_final=team_data.drop(columns=['TEAM_NAME','L','TEAM_ID', 'MIN','GP','W_PCT','GP_RANK','W_RANK','L_RANK','W_PCT_RANK', 'MIN_RANK','E_OFF_RATING_RANK',\n",
    "       'E_DEF_RATING_RANK', 'E_NET_RATING_RANK', 'E_AST_RATIO_RANK',\n",
    "       'E_OREB_PCT_RANK', 'E_DREB_PCT_RANK', 'E_REB_PCT_RANK',\n",
    "       'E_TM_TOV_PCT_RANK', 'E_PACE_RANK'])\n",
    "team_data_final.columns = map(str.lower, team_data_final.columns)\n",
    "team_data_final.columns"
   ]
  },
  {
   "cell_type": "markdown",
   "id": "8d8b235c-ff71-4dd8-9537-a2eae5e6077c",
   "metadata": {},
   "source": [
    "## PREPROCESSING"
   ]
  },
  {
   "cell_type": "code",
   "execution_count": 63,
   "id": "9618d0a4-c95c-40d7-ab16-a55f689a4f00",
   "metadata": {},
   "outputs": [
    {
     "data": {
      "text/html": [
       "<div>\n",
       "<style scoped>\n",
       "    .dataframe tbody tr th:only-of-type {\n",
       "        vertical-align: middle;\n",
       "    }\n",
       "\n",
       "    .dataframe tbody tr th {\n",
       "        vertical-align: top;\n",
       "    }\n",
       "\n",
       "    .dataframe thead th {\n",
       "        text-align: right;\n",
       "    }\n",
       "</style>\n",
       "<table border=\"1\" class=\"dataframe\">\n",
       "  <thead>\n",
       "    <tr style=\"text-align: right;\">\n",
       "      <th></th>\n",
       "      <th>e_off_rating</th>\n",
       "      <th>e_def_rating</th>\n",
       "      <th>e_net_rating</th>\n",
       "      <th>e_pace</th>\n",
       "      <th>e_ast_ratio</th>\n",
       "      <th>e_oreb_pct</th>\n",
       "      <th>e_dreb_pct</th>\n",
       "      <th>e_reb_pct</th>\n",
       "      <th>e_tm_tov_pct</th>\n",
       "    </tr>\n",
       "  </thead>\n",
       "  <tbody>\n",
       "    <tr>\n",
       "      <th>0</th>\n",
       "      <td>100.8</td>\n",
       "      <td>108.8</td>\n",
       "      <td>-8.0</td>\n",
       "      <td>98.3</td>\n",
       "      <td>16.1</td>\n",
       "      <td>0.294</td>\n",
       "      <td>0.685</td>\n",
       "      <td>0.475</td>\n",
       "      <td>0.164</td>\n",
       "    </tr>\n",
       "    <tr>\n",
       "      <th>1</th>\n",
       "      <td>101.4</td>\n",
       "      <td>108.4</td>\n",
       "      <td>-6.9</td>\n",
       "      <td>98.1</td>\n",
       "      <td>15.2</td>\n",
       "      <td>0.341</td>\n",
       "      <td>0.665</td>\n",
       "      <td>0.499</td>\n",
       "      <td>0.177</td>\n",
       "    </tr>\n",
       "    <tr>\n",
       "      <th>2</th>\n",
       "      <td>106.7</td>\n",
       "      <td>105.5</td>\n",
       "      <td>1.2</td>\n",
       "      <td>95.8</td>\n",
       "      <td>18.9</td>\n",
       "      <td>0.271</td>\n",
       "      <td>0.694</td>\n",
       "      <td>0.484</td>\n",
       "      <td>0.149</td>\n",
       "    </tr>\n",
       "    <tr>\n",
       "      <th>3</th>\n",
       "      <td>101.4</td>\n",
       "      <td>106.5</td>\n",
       "      <td>-5.1</td>\n",
       "      <td>95.3</td>\n",
       "      <td>15.5</td>\n",
       "      <td>0.364</td>\n",
       "      <td>0.690</td>\n",
       "      <td>0.518</td>\n",
       "      <td>0.164</td>\n",
       "    </tr>\n",
       "    <tr>\n",
       "      <th>4</th>\n",
       "      <td>101.2</td>\n",
       "      <td>108.2</td>\n",
       "      <td>-7.0</td>\n",
       "      <td>95.2</td>\n",
       "      <td>17.4</td>\n",
       "      <td>0.288</td>\n",
       "      <td>0.693</td>\n",
       "      <td>0.493</td>\n",
       "      <td>0.171</td>\n",
       "    </tr>\n",
       "  </tbody>\n",
       "</table>\n",
       "</div>"
      ],
      "text/plain": [
       "   e_off_rating  e_def_rating  e_net_rating  e_pace  e_ast_ratio  e_oreb_pct  \\\n",
       "0         100.8         108.8          -8.0    98.3         16.1       0.294   \n",
       "1         101.4         108.4          -6.9    98.1         15.2       0.341   \n",
       "2         106.7         105.5           1.2    95.8         18.9       0.271   \n",
       "3         101.4         106.5          -5.1    95.3         15.5       0.364   \n",
       "4         101.2         108.2          -7.0    95.2         17.4       0.288   \n",
       "\n",
       "   e_dreb_pct  e_reb_pct  e_tm_tov_pct  \n",
       "0       0.685      0.475         0.164  \n",
       "1       0.665      0.499         0.177  \n",
       "2       0.694      0.484         0.149  \n",
       "3       0.690      0.518         0.164  \n",
       "4       0.693      0.493         0.171  "
      ]
     },
     "execution_count": 63,
     "metadata": {},
     "output_type": "execute_result"
    }
   ],
   "source": [
    "# subset Xs and Y\n",
    "X = team_data_final.drop(columns = ['w'])\n",
    "Y = team_data_final['w']\n",
    "X.head()"
   ]
  },
  {
   "cell_type": "code",
   "execution_count": 8,
   "id": "1a68cf70-652c-4a03-a448-1ec0eab533af",
   "metadata": {},
   "outputs": [],
   "source": [
    "# split data so that there is 30% set aside for test\n",
    "X_train, X_test, y_train, y_test = train_test_split(X,Y, test_size=0.3, random_state=22)"
   ]
  },
  {
   "cell_type": "code",
   "execution_count": 9,
   "id": "f1d10eda-3d44-48d4-a421-f8b7322d3b07",
   "metadata": {},
   "outputs": [
    {
     "data": {
      "text/plain": [
       "['e_off_rating',\n",
       " 'e_def_rating',\n",
       " 'e_net_rating',\n",
       " 'e_pace',\n",
       " 'e_ast_ratio',\n",
       " 'e_oreb_pct',\n",
       " 'e_dreb_pct',\n",
       " 'e_reb_pct',\n",
       " 'e_tm_tov_pct']"
      ]
     },
     "execution_count": 9,
     "metadata": {},
     "output_type": "execute_result"
    }
   ],
   "source": [
    "# view some data\n",
    "X_train.head()\n",
    "numeric_features = X.columns.tolist()\n",
    "numeric_features"
   ]
  },
  {
   "cell_type": "markdown",
   "id": "b95e6091-9c55-4902-b3d5-6b04764c0002",
   "metadata": {},
   "source": [
    "## MODEL CREATION"
   ]
  },
  {
   "cell_type": "markdown",
   "id": "e1f4071d-ca94-47a6-accd-3f67dda02917",
   "metadata": {},
   "source": [
    "## DummyRegressor"
   ]
  },
  {
   "cell_type": "code",
   "execution_count": 65,
   "id": "492bafc1-5658-4b16-8c1d-9a5708da1569",
   "metadata": {},
   "outputs": [
    {
     "data": {
      "text/html": [
       "<div>\n",
       "<style scoped>\n",
       "    .dataframe tbody tr th:only-of-type {\n",
       "        vertical-align: middle;\n",
       "    }\n",
       "\n",
       "    .dataframe tbody tr th {\n",
       "        vertical-align: top;\n",
       "    }\n",
       "\n",
       "    .dataframe thead th {\n",
       "        text-align: right;\n",
       "    }\n",
       "</style>\n",
       "<table border=\"1\" class=\"dataframe\">\n",
       "  <thead>\n",
       "    <tr style=\"text-align: right;\">\n",
       "      <th></th>\n",
       "      <th>fit_time</th>\n",
       "      <th>score_time</th>\n",
       "      <th>test_score</th>\n",
       "      <th>train_score</th>\n",
       "    </tr>\n",
       "  </thead>\n",
       "  <tbody>\n",
       "    <tr>\n",
       "      <th>0</th>\n",
       "      <td>0.003023</td>\n",
       "      <td>0.000946</td>\n",
       "      <td>-0.001503</td>\n",
       "      <td>0.0</td>\n",
       "    </tr>\n",
       "    <tr>\n",
       "      <th>1</th>\n",
       "      <td>0.001995</td>\n",
       "      <td>0.002401</td>\n",
       "      <td>-0.017266</td>\n",
       "      <td>0.0</td>\n",
       "    </tr>\n",
       "    <tr>\n",
       "      <th>2</th>\n",
       "      <td>0.001999</td>\n",
       "      <td>0.000996</td>\n",
       "      <td>-0.008184</td>\n",
       "      <td>0.0</td>\n",
       "    </tr>\n",
       "    <tr>\n",
       "      <th>3</th>\n",
       "      <td>0.001995</td>\n",
       "      <td>0.000994</td>\n",
       "      <td>-0.008013</td>\n",
       "      <td>0.0</td>\n",
       "    </tr>\n",
       "    <tr>\n",
       "      <th>4</th>\n",
       "      <td>0.001995</td>\n",
       "      <td>0.000997</td>\n",
       "      <td>-0.007314</td>\n",
       "      <td>0.0</td>\n",
       "    </tr>\n",
       "  </tbody>\n",
       "</table>\n",
       "</div>"
      ],
      "text/plain": [
       "   fit_time  score_time  test_score  train_score\n",
       "0  0.003023    0.000946   -0.001503          0.0\n",
       "1  0.001995    0.002401   -0.017266          0.0\n",
       "2  0.001999    0.000996   -0.008184          0.0\n",
       "3  0.001995    0.000994   -0.008013          0.0\n",
       "4  0.001995    0.000997   -0.007314          0.0"
      ]
     },
     "execution_count": 65,
     "metadata": {},
     "output_type": "execute_result"
    }
   ],
   "source": [
    "dummy = DummyRegressor()\n",
    "pd.DataFrame(cross_validate(dummy, X_train, y_train, cv=5, return_train_score=True))"
   ]
  },
  {
   "cell_type": "markdown",
   "id": "c800a56b-7ee7-4323-a9c4-1a9254a060c8",
   "metadata": {},
   "source": [
    "## Ridge Regression"
   ]
  },
  {
   "cell_type": "code",
   "execution_count": 64,
   "id": "b249ae78-75f0-4735-b645-dc23f577c213",
   "metadata": {},
   "outputs": [
    {
     "data": {
      "text/html": [
       "<div>\n",
       "<style scoped>\n",
       "    .dataframe tbody tr th:only-of-type {\n",
       "        vertical-align: middle;\n",
       "    }\n",
       "\n",
       "    .dataframe tbody tr th {\n",
       "        vertical-align: top;\n",
       "    }\n",
       "\n",
       "    .dataframe thead th {\n",
       "        text-align: right;\n",
       "    }\n",
       "</style>\n",
       "<table border=\"1\" class=\"dataframe\">\n",
       "  <thead>\n",
       "    <tr style=\"text-align: right;\">\n",
       "      <th></th>\n",
       "      <th>fit_time</th>\n",
       "      <th>score_time</th>\n",
       "      <th>test_score</th>\n",
       "      <th>train_score</th>\n",
       "    </tr>\n",
       "  </thead>\n",
       "  <tbody>\n",
       "    <tr>\n",
       "      <th>0</th>\n",
       "      <td>0.043768</td>\n",
       "      <td>0.003384</td>\n",
       "      <td>0.903936</td>\n",
       "      <td>0.841373</td>\n",
       "    </tr>\n",
       "    <tr>\n",
       "      <th>1</th>\n",
       "      <td>0.006331</td>\n",
       "      <td>0.002917</td>\n",
       "      <td>0.808693</td>\n",
       "      <td>0.867027</td>\n",
       "    </tr>\n",
       "    <tr>\n",
       "      <th>2</th>\n",
       "      <td>0.007517</td>\n",
       "      <td>0.001995</td>\n",
       "      <td>0.833441</td>\n",
       "      <td>0.862168</td>\n",
       "    </tr>\n",
       "    <tr>\n",
       "      <th>3</th>\n",
       "      <td>0.005147</td>\n",
       "      <td>0.002006</td>\n",
       "      <td>0.866292</td>\n",
       "      <td>0.855378</td>\n",
       "    </tr>\n",
       "    <tr>\n",
       "      <th>4</th>\n",
       "      <td>0.004984</td>\n",
       "      <td>0.001994</td>\n",
       "      <td>0.831181</td>\n",
       "      <td>0.863251</td>\n",
       "    </tr>\n",
       "  </tbody>\n",
       "</table>\n",
       "</div>"
      ],
      "text/plain": [
       "   fit_time  score_time  test_score  train_score\n",
       "0  0.043768    0.003384    0.903936     0.841373\n",
       "1  0.006331    0.002917    0.808693     0.867027\n",
       "2  0.007517    0.001995    0.833441     0.862168\n",
       "3  0.005147    0.002006    0.866292     0.855378\n",
       "4  0.004984    0.001994    0.831181     0.863251"
      ]
     },
     "execution_count": 64,
     "metadata": {},
     "output_type": "execute_result"
    }
   ],
   "source": [
    "# create Ridge pipeline\n",
    "RidgePipe = make_pipeline(StandardScaler(),Ridge())\n",
    "scores = cross_validate(RidgePipe, X_train, y_train, cv= 5,return_train_score=True)\n",
    "pd.DataFrame(scores)"
   ]
  },
  {
   "cell_type": "markdown",
   "id": "5023cbb1-26be-4ad8-8af2-6fe9abefdf49",
   "metadata": {},
   "source": [
    "## Optimizing Ridge ALPHA parameter"
   ]
  },
  {
   "cell_type": "code",
   "execution_count": 66,
   "id": "c69748fd-e7b1-40fd-b128-9584b31a5d50",
   "metadata": {},
   "outputs": [],
   "source": [
    "scores_dict = {\n",
    "    \"alpha\": 10.0 ** np.arange(-3, 6, 1),\n",
    "    \"mean_train_scores\": list(),\n",
    "    \"mean_cv_scores\": list(),\n",
    "}\n",
    "for alpha in scores_dict[\"alpha\"]:\n",
    "    pipe_ridge = make_pipeline(StandardScaler(), Ridge(alpha=alpha))\n",
    "    scores = cross_validate(pipe_ridge, X_train, y_train, return_train_score=True)\n",
    "    scores_dict[\"mean_train_scores\"].append(scores[\"train_score\"].mean())\n",
    "    scores_dict[\"mean_cv_scores\"].append(scores[\"test_score\"].mean())\n",
    "\n",
    "results_df = pd.DataFrame(scores_dict)"
   ]
  },
  {
   "cell_type": "code",
   "execution_count": 67,
   "id": "e7d050e5-53c9-4258-845d-1902b42573ed",
   "metadata": {},
   "outputs": [
    {
     "data": {
      "text/html": [
       "<div>\n",
       "<style scoped>\n",
       "    .dataframe tbody tr th:only-of-type {\n",
       "        vertical-align: middle;\n",
       "    }\n",
       "\n",
       "    .dataframe tbody tr th {\n",
       "        vertical-align: top;\n",
       "    }\n",
       "\n",
       "    .dataframe thead th {\n",
       "        text-align: right;\n",
       "    }\n",
       "</style>\n",
       "<table border=\"1\" class=\"dataframe\">\n",
       "  <thead>\n",
       "    <tr style=\"text-align: right;\">\n",
       "      <th></th>\n",
       "      <th>alpha</th>\n",
       "      <th>mean_train_scores</th>\n",
       "      <th>mean_cv_scores</th>\n",
       "    </tr>\n",
       "  </thead>\n",
       "  <tbody>\n",
       "    <tr>\n",
       "      <th>0</th>\n",
       "      <td>0.001</td>\n",
       "      <td>0.858264</td>\n",
       "      <td>0.848814</td>\n",
       "    </tr>\n",
       "    <tr>\n",
       "      <th>1</th>\n",
       "      <td>0.010</td>\n",
       "      <td>0.858207</td>\n",
       "      <td>0.848832</td>\n",
       "    </tr>\n",
       "    <tr>\n",
       "      <th>2</th>\n",
       "      <td>0.100</td>\n",
       "      <td>0.857948</td>\n",
       "      <td>0.848697</td>\n",
       "    </tr>\n",
       "    <tr>\n",
       "      <th>3</th>\n",
       "      <td>1.000</td>\n",
       "      <td>0.857839</td>\n",
       "      <td>0.848708</td>\n",
       "    </tr>\n",
       "    <tr>\n",
       "      <th>4</th>\n",
       "      <td>10.000</td>\n",
       "      <td>0.857601</td>\n",
       "      <td>0.848967</td>\n",
       "    </tr>\n",
       "    <tr>\n",
       "      <th>5</th>\n",
       "      <td>100.000</td>\n",
       "      <td>0.844989</td>\n",
       "      <td>0.837357</td>\n",
       "    </tr>\n",
       "    <tr>\n",
       "      <th>6</th>\n",
       "      <td>1000.000</td>\n",
       "      <td>0.618494</td>\n",
       "      <td>0.610681</td>\n",
       "    </tr>\n",
       "    <tr>\n",
       "      <th>7</th>\n",
       "      <td>10000.000</td>\n",
       "      <td>0.143609</td>\n",
       "      <td>0.135252</td>\n",
       "    </tr>\n",
       "    <tr>\n",
       "      <th>8</th>\n",
       "      <td>100000.000</td>\n",
       "      <td>0.016387</td>\n",
       "      <td>0.007943</td>\n",
       "    </tr>\n",
       "  </tbody>\n",
       "</table>\n",
       "</div>"
      ],
      "text/plain": [
       "        alpha  mean_train_scores  mean_cv_scores\n",
       "0       0.001           0.858264        0.848814\n",
       "1       0.010           0.858207        0.848832\n",
       "2       0.100           0.857948        0.848697\n",
       "3       1.000           0.857839        0.848708\n",
       "4      10.000           0.857601        0.848967\n",
       "5     100.000           0.844989        0.837357\n",
       "6    1000.000           0.618494        0.610681\n",
       "7   10000.000           0.143609        0.135252\n",
       "8  100000.000           0.016387        0.007943"
      ]
     },
     "execution_count": 67,
     "metadata": {},
     "output_type": "execute_result"
    }
   ],
   "source": [
    "results_df"
   ]
  },
  {
   "cell_type": "code",
   "execution_count": 68,
   "id": "9f892d14-8673-4c02-873d-b58b0c9ee4ec",
   "metadata": {},
   "outputs": [],
   "source": [
    "# view fundamental tradeoff of increasing/decreasing alpha \n",
    "alphas = 10.0 ** np.arange(-5, 5, 1)\n",
    "train_scores = []\n",
    "cv_scores = []\n",
    "for alpha in alphas:\n",
    "    lr = make_pipeline(StandardScaler(), Ridge(alpha=alpha))\n",
    "    results = cross_validate(lr, X_train, y_train, return_train_score=True)\n",
    "    train_scores.append(np.mean(results[\"train_score\"]))\n",
    "    cv_scores.append(np.mean(results[\"test_score\"]))"
   ]
  },
  {
   "cell_type": "code",
   "execution_count": 69,
   "id": "b38cdd83-d05b-4d54-9e09-eca20c2e1046",
   "metadata": {},
   "outputs": [
    {
     "data": {
      "image/png": "[encoded data removed]",
      "text/plain": [
       "<Figure size 640x480 with 1 Axes>"
      ]
     },
     "metadata": {},
     "output_type": "display_data"
    }
   ],
   "source": [
    "plt.semilogx(alphas, train_scores, label=\"train\")\n",
    "plt.semilogx(alphas, cv_scores, label=\"cv\")\n",
    "plt.legend()\n",
    "plt.xlabel(\"alpha\")\n",
    "plt.ylabel(\"score\");"
   ]
  },
  {
   "cell_type": "code",
   "execution_count": 70,
   "id": "9c90622a-7192-4ce1-a4e3-6ff58f4e35cd",
   "metadata": {},
   "outputs": [
    {
     "data": {
      "text/plain": [
       "10.0"
      ]
     },
     "execution_count": 70,
     "metadata": {},
     "output_type": "execute_result"
    }
   ],
   "source": [
    "# get best alpha\n",
    "best_alpha = alphas[np.argmax(cv_scores)]\n",
    "best_alpha"
   ]
  },
  {
   "cell_type": "markdown",
   "id": "85658a79-6f9a-4482-91f6-5bbf21532070",
   "metadata": {},
   "source": [
    "## Coefficients & Intercept"
   ]
  },
  {
   "cell_type": "code",
   "execution_count": 71,
   "id": "c5f02993-998b-4cdc-86c8-ad3ca653d77a",
   "metadata": {},
   "outputs": [],
   "source": [
    "pipe_ridge = make_pipeline(StandardScaler(), Ridge(alpha=best_alpha))\n",
    "pipe_ridge.fit(X_train, y_train)\n",
    "coeffs = pipe_ridge.named_steps[\"ridge\"].coef_"
   ]
  },
  {
   "cell_type": "code",
   "execution_count": 72,
   "id": "c3effdcc-b593-43d9-9419-76316ca4acf4",
   "metadata": {},
   "outputs": [
    {
     "data": {
      "text/html": [
       "<div>\n",
       "<style scoped>\n",
       "    .dataframe tbody tr th:only-of-type {\n",
       "        vertical-align: middle;\n",
       "    }\n",
       "\n",
       "    .dataframe tbody tr th {\n",
       "        vertical-align: top;\n",
       "    }\n",
       "\n",
       "    .dataframe thead th {\n",
       "        text-align: right;\n",
       "    }\n",
       "</style>\n",
       "<table border=\"1\" class=\"dataframe\">\n",
       "  <thead>\n",
       "    <tr style=\"text-align: right;\">\n",
       "      <th></th>\n",
       "      <th>Coefficients</th>\n",
       "    </tr>\n",
       "  </thead>\n",
       "  <tbody>\n",
       "    <tr>\n",
       "      <th>e_off_rating</th>\n",
       "      <td>4.039701</td>\n",
       "    </tr>\n",
       "    <tr>\n",
       "      <th>e_def_rating</th>\n",
       "      <td>-3.532761</td>\n",
       "    </tr>\n",
       "    <tr>\n",
       "      <th>e_net_rating</th>\n",
       "      <td>6.644601</td>\n",
       "    </tr>\n",
       "    <tr>\n",
       "      <th>e_pace</th>\n",
       "      <td>-0.363932</td>\n",
       "    </tr>\n",
       "    <tr>\n",
       "      <th>e_ast_ratio</th>\n",
       "      <td>0.330375</td>\n",
       "    </tr>\n",
       "    <tr>\n",
       "      <th>e_oreb_pct</th>\n",
       "      <td>-0.318216</td>\n",
       "    </tr>\n",
       "    <tr>\n",
       "      <th>e_dreb_pct</th>\n",
       "      <td>-0.508959</td>\n",
       "    </tr>\n",
       "    <tr>\n",
       "      <th>e_reb_pct</th>\n",
       "      <td>0.959363</td>\n",
       "    </tr>\n",
       "    <tr>\n",
       "      <th>e_tm_tov_pct</th>\n",
       "      <td>-0.807683</td>\n",
       "    </tr>\n",
       "  </tbody>\n",
       "</table>\n",
       "</div>"
      ],
      "text/plain": [
       "              Coefficients\n",
       "e_off_rating      4.039701\n",
       "e_def_rating     -3.532761\n",
       "e_net_rating      6.644601\n",
       "e_pace           -0.363932\n",
       "e_ast_ratio       0.330375\n",
       "e_oreb_pct       -0.318216\n",
       "e_dreb_pct       -0.508959\n",
       "e_reb_pct         0.959363\n",
       "e_tm_tov_pct     -0.807683"
      ]
     },
     "execution_count": 72,
     "metadata": {},
     "output_type": "execute_result"
    }
   ],
   "source": [
    "# coefficients\n",
    "pd.DataFrame(data=coeffs, index=X.columns, columns=[\"Coefficients\"])"
   ]
  },
  {
   "cell_type": "code",
   "execution_count": 73,
   "id": "cfcc5b4b-9142-4231-9508-c073caa89fba",
   "metadata": {},
   "outputs": [
    {
     "data": {
      "text/plain": [
       "39.49376114081998"
      ]
     },
     "execution_count": 73,
     "metadata": {},
     "output_type": "execute_result"
    }
   ],
   "source": [
    "# intercept\n",
    "pipe_ridge.named_steps[\"ridge\"].intercept_"
   ]
  },
  {
   "cell_type": "markdown",
   "id": "e3a731eb-930a-429a-ae2a-5ff8a40bbc69",
   "metadata": {},
   "source": [
    "## Create Data to Predict With"
   ]
  },
  {
   "cell_type": "code",
   "execution_count": 75,
   "id": "89c7e377-9033-427f-b117-b14e02cc7e2e",
   "metadata": {},
   "outputs": [],
   "source": [
    "# get column names\n",
    "column_names = X_train.columns.tolist()"
   ]
  },
  {
   "cell_type": "code",
   "execution_count": 82,
   "id": "5fc21ed4-daef-4728-8489-a2d61dca2eae",
   "metadata": {},
   "outputs": [
    {
     "data": {
      "text/html": [
       "<div>\n",
       "<style scoped>\n",
       "    .dataframe tbody tr th:only-of-type {\n",
       "        vertical-align: middle;\n",
       "    }\n",
       "\n",
       "    .dataframe tbody tr th {\n",
       "        vertical-align: top;\n",
       "    }\n",
       "\n",
       "    .dataframe thead th {\n",
       "        text-align: right;\n",
       "    }\n",
       "</style>\n",
       "<table border=\"1\" class=\"dataframe\">\n",
       "  <thead>\n",
       "    <tr style=\"text-align: right;\">\n",
       "      <th></th>\n",
       "      <th>e_off_rating</th>\n",
       "      <th>e_def_rating</th>\n",
       "      <th>e_net_rating</th>\n",
       "      <th>e_pace</th>\n",
       "      <th>e_ast_ratio</th>\n",
       "      <th>e_oreb_pct</th>\n",
       "      <th>e_dreb_pct</th>\n",
       "      <th>e_reb_pct</th>\n",
       "      <th>e_tm_tov_pct</th>\n",
       "    </tr>\n",
       "  </thead>\n",
       "  <tbody>\n",
       "    <tr>\n",
       "      <th>min</th>\n",
       "      <td>89.8</td>\n",
       "      <td>91.6</td>\n",
       "      <td>-15.5</td>\n",
       "      <td>86.9</td>\n",
       "      <td>13.0</td>\n",
       "      <td>0.180</td>\n",
       "      <td>0.629</td>\n",
       "      <td>0.444</td>\n",
       "      <td>0.110</td>\n",
       "    </tr>\n",
       "    <tr>\n",
       "      <th>max</th>\n",
       "      <td>117.0</td>\n",
       "      <td>117.7</td>\n",
       "      <td>11.8</td>\n",
       "      <td>106.4</td>\n",
       "      <td>20.5</td>\n",
       "      <td>0.367</td>\n",
       "      <td>0.812</td>\n",
       "      <td>0.547</td>\n",
       "      <td>0.204</td>\n",
       "    </tr>\n",
       "  </tbody>\n",
       "</table>\n",
       "</div>"
      ],
      "text/plain": [
       "     e_off_rating  e_def_rating  e_net_rating  e_pace  e_ast_ratio  \\\n",
       "min          89.8          91.6         -15.5    86.9         13.0   \n",
       "max         117.0         117.7          11.8   106.4         20.5   \n",
       "\n",
       "     e_oreb_pct  e_dreb_pct  e_reb_pct  e_tm_tov_pct  \n",
       "min       0.180       0.629      0.444         0.110  \n",
       "max       0.367       0.812      0.547         0.204  "
      ]
     },
     "execution_count": 82,
     "metadata": {},
     "output_type": "execute_result"
    }
   ],
   "source": [
    "# get min/max of transformed data\n",
    "X_train_range = X_train.describe()\n",
    "X_train_endp = X_train_range.drop(['count', 'mean', 'std','25%','50%','75%'])\n",
    "X_train_endp"
   ]
  },
  {
   "cell_type": "code",
   "execution_count": 84,
   "id": "71d2b66e-9022-4ebd-a7b7-7bc901626a28",
   "metadata": {},
   "outputs": [
    {
     "data": {
      "text/plain": [
       "[89.8, 91.6, -15.5, 86.9, 13.0, 0.18, 0.629, 0.444, 0.11]"
      ]
     },
     "execution_count": 84,
     "metadata": {},
     "output_type": "execute_result"
    }
   ],
   "source": [
    "# turn min row to list\n",
    "X_train_min = X_train_endp.iloc[0]\n",
    "X_train_min_list = X_train_min.tolist()\n",
    "X_train_min_list"
   ]
  },
  {
   "cell_type": "code",
   "execution_count": 85,
   "id": "cda501dc-8e6b-445b-a78b-a7362f7da436",
   "metadata": {},
   "outputs": [
    {
     "data": {
      "text/plain": [
       "[117.0, 117.7, 11.8, 106.4, 20.5, 0.367, 0.812, 0.547, 0.204]"
      ]
     },
     "execution_count": 85,
     "metadata": {},
     "output_type": "execute_result"
    }
   ],
   "source": [
    "# turn max row into list\n",
    "X_train_max = X_train_endp.iloc[1]\n",
    "X_train_max_list = X_train_max.tolist()\n",
    "X_train_max_list"
   ]
  },
  {
   "cell_type": "code",
   "execution_count": 107,
   "id": "c5e4b6ad-5d39-4ac4-846b-541c07d48b34",
   "metadata": {},
   "outputs": [
    {
     "data": {
      "text/plain": [
       "[[96.60772323259296,\n",
       "  102.85835266744745,\n",
       "  2.529951265845348,\n",
       "  104.9907369951403,\n",
       "  20.26855026837754,\n",
       "  0.3398256827232771,\n",
       "  0.7055603456840243,\n",
       "  0.4778671275553001,\n",
       "  0.1548020870641309]]"
      ]
     },
     "execution_count": 107,
     "metadata": {},
     "output_type": "execute_result"
    }
   ],
   "source": [
    "# create function to generate random values for prediction\n",
    "def generate_random_array(num_rows, num_columns, min_values, max_values):\n",
    "    if len(min_values) != num_columns or len(max_values) != num_columns:\n",
    "        raise ValueError(\"min_values and max_values must have the same length as num_columns\")\n",
    "    \n",
    "    random_array = np.random.uniform(low=min_values, high=max_values, size=(num_rows, num_columns))\n",
    "    return random_array\n",
    "\n",
    "num_rows = 1  # Number of rows in the array\n",
    "num_columns = 9  # Number of columns in the array\n",
    "\n",
    "random_array = generate_random_array(num_rows, num_columns, X_train_min_list, X_train_max_list)\n",
    "random_array = random_array.tolist()\n",
    "random_array"
   ]
  },
  {
   "cell_type": "markdown",
   "id": "6d8b6cd6-2185-4189-bdbc-b0ffa998a2cb",
   "metadata": {},
   "source": [
    "## PREDICTION"
   ]
  },
  {
   "cell_type": "code",
   "execution_count": 108,
   "id": "86a79463-723d-41ee-a5a5-b204cfcb9c12",
   "metadata": {},
   "outputs": [
    {
     "name": "stderr",
     "output_type": "stream",
     "text": [
      "C:\\Users\\17782\\miniconda3\\envs\\machine_learning\\lib\\site-packages\\sklearn\\base.py:439: UserWarning: X does not have valid feature names, but StandardScaler was fitted with feature names\n",
      "  warnings.warn(\n"
     ]
    },
    {
     "data": {
      "text/plain": [
       "array([35.41719453])"
      ]
     },
     "execution_count": 108,
     "metadata": {},
     "output_type": "execute_result"
    }
   ],
   "source": [
    "pipe_ridge.predict(random_array)"
   ]
  }
 ],
 "metadata": {
  "kernelspec": {
   "display_name": "Python [conda env:machine_learning]",
   "language": "python",
   "name": "conda-env-machine_learning-py"
  },
  "language_info": {
   "codemirror_mode": {
    "name": "ipython",
    "version": 3
   },
   "file_extension": ".py",
   "mimetype": "text/x-python",
   "name": "python",
   "nbconvert_exporter": "python",
   "pygments_lexer": "ipython3",
   "version": "3.9.16"
  }
 },
 "nbformat": 4,
 "nbformat_minor": 5
}
